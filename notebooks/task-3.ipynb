{
 "cells": [
  {
   "cell_type": "code",
   "execution_count": null,
   "metadata": {},
   "outputs": [],
   "source": [
    "import sys\n",
    "sys.path.append('../scripts')\n",
    "\n",
    "from scripts.load_data import load_data\n",
    "from scripts.feature_engineering import create_aggregate_features, extract_temporal_features, encode_categorical, handle_missing_values, scale_features\n",
    "import scorecardpy as sc\n"
   ]
  },
  {
   "cell_type": "code",
   "execution_count": null,
   "metadata": {},
   "outputs": [],
   "source": [
    "\n",
    "# Load the data\n",
    "data = load_data('../data/data.csv')\n"
   ]
  },
  {
   "cell_type": "code",
   "execution_count": null,
   "metadata": {},
   "outputs": [],
   "source": [
    "\n",
    "# Step 1: Create aggregate features\n",
    "agg_features = create_aggregate_features(data)\n",
    "print(\"Aggregated features:\")\n",
    "print(agg_features.head())\n"
   ]
  },
  {
   "cell_type": "code",
   "execution_count": null,
   "metadata": {},
   "outputs": [],
   "source": [
    "\n",
    "# Step 2: Extract temporal features\n",
    "data = extract_temporal_features(data)\n",
    "print(\"Data with extracted temporal features:\")\n",
    "print(data[['TransactionStartTime', 'transaction_hour', 'transaction_day']].head())\n"
   ]
  },
  {
   "cell_type": "code",
   "execution_count": null,
   "metadata": {},
   "outputs": [],
   "source": [
    "\n",
    "# Step 3: Handle missing values and encode columns as necessary\n",
    "data['ProductCategory'] = data['ProductCategory'].fillna('Other')\n",
    "data['ChannelId'] = data['ChannelId'].fillna('Other')\n"
   ]
  },
  {
   "cell_type": "code",
   "execution_count": null,
   "metadata": {},
   "outputs": [],
   "source": [
    "\n",
    "# Step 4: Perform WoE and IV calculation using ScorecardPy\n",
    "# Split the data into training and testing sets (70/30 split)\n",
    "train, test = sc.split_df(data, 'FraudResult', ratio=0.7, seed=999).values()\n",
    "\n",
    "# Perform WoE binning\n",
    "categorical_columns = ['ProductCategory', 'ChannelId']\n",
    "woe_bins = sc.woebin(train, y='FraudResult', x=categorical_columns)\n"
   ]
  },
  {
   "cell_type": "code",
   "execution_count": null,
   "metadata": {},
   "outputs": [],
   "source": [
    "\n",
    "# Step 5: Apply WoE transformation on both train and test sets\n",
    "train_woe = sc.woebin_ply(train, woe_bins)\n",
    "test_woe = sc.woebin_ply(test, woe_bins)\n"
   ]
  },
  {
   "cell_type": "code",
   "execution_count": null,
   "metadata": {},
   "outputs": [],
   "source": [
    "\n",
    "# Step 6: View transformed data and IV values\n",
    "print(\"WoE-transformed training data:\")\n",
    "print(train_woe.head())\n",
    "\n",
    "print(\"Information Value of features:\")\n",
    "iv_values = sc.iv(train_woe, y='FraudResult')\n",
    "print(iv_values)\n",
    "\n"
   ]
  }
 ],
 "metadata": {
  "kernelspec": {
   "display_name": "venv",
   "language": "python",
   "name": "python3"
  },
  "language_info": {
   "codemirror_mode": {
    "name": "ipython",
    "version": 3
   },
   "file_extension": ".py",
   "mimetype": "text/x-python",
   "name": "python",
   "nbconvert_exporter": "python",
   "pygments_lexer": "ipython3",
   "version": "3.12.7"
  }
 },
 "nbformat": 4,
 "nbformat_minor": 2
}
