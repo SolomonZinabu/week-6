{
 "cells": [
  {
   "cell_type": "code",
   "execution_count": 2,
   "metadata": {},
   "outputs": [
    {
     "name": "stdout",
     "output_type": "stream",
     "text": [
      "Data loaded successfully. Shape: (95662, 16)\n",
      "Aggregated features:\n",
      "        CustomerId  total_amount    avg_amount  transaction_count  \\\n",
      "0     CustomerId_1      -10000.0 -10000.000000                  1   \n",
      "1    CustomerId_10      -10000.0 -10000.000000                  1   \n",
      "2  CustomerId_1001       20000.0   4000.000000                  5   \n",
      "3  CustomerId_1002        4225.0    384.090909                 11   \n",
      "4  CustomerId_1003       20000.0   3333.333333                  6   \n",
      "\n",
      "   std_transaction_amount  \n",
      "0                0.000000  \n",
      "1                0.000000  \n",
      "2             6558.963333  \n",
      "3              560.498966  \n",
      "4             6030.478146  \n",
      "Data with extracted temporal features:\n",
      "       TransactionStartTime  transaction_hour  transaction_day\n",
      "0 2018-11-15 02:18:49+00:00                 2               15\n",
      "1 2018-11-15 02:19:08+00:00                 2               15\n",
      "2 2018-11-15 02:44:21+00:00                 2               15\n",
      "3 2018-11-15 03:32:55+00:00                 3               15\n",
      "4 2018-11-15 03:34:21+00:00                 3               15\n",
      "Before conversion: ProductCategory type: object, ChannelId type: object\n"
     ]
    },
    {
     "name": "stderr",
     "output_type": "stream",
     "text": [
      "d:\\Projects\\SolomonProjects\\Kifiya\\week 6\\week-6\\notebooks\\scripts\\feature_engineering.py:19: FutureWarning: A value is trying to be set on a copy of a DataFrame or Series through chained assignment using an inplace method.\n",
      "The behavior will change in pandas 3.0. This inplace method will never work because the intermediate object on which we are setting values always behaves as a copy.\n",
      "\n",
      "For example, when doing 'df[col].method(value, inplace=True)', try using 'df.method({col: value}, inplace=True)' or df[col] = df[col].method(value) instead, to perform the operation inplace on the original object.\n",
      "\n",
      "\n",
      "  agg_features['std_transaction_amount'].fillna(0, inplace=True)\n"
     ]
    },
    {
     "name": "stdout",
     "output_type": "stream",
     "text": [
      "After conversion: ProductCategory type: category, ChannelId type: category\n",
      "Feature DataFrame shape: (95662, 2), types:\n",
      "ProductCategory    category\n",
      "ChannelId          category\n",
      "dtype: object\n",
      "Target Series shape: (95662,), type: int64\n"
     ]
    },
    {
     "ename": "ValueError",
     "evalue": "Error during WoE/IV calculation: The input data must be pandas dataframe. But the input provided is <class 'str'>",
     "output_type": "error",
     "traceback": [
      "\u001b[1;31m---------------------------------------------------------------------------\u001b[0m",
      "\u001b[1;31mValueError\u001b[0m                                Traceback (most recent call last)",
      "File \u001b[1;32md:\\Projects\\SolomonProjects\\Kifiya\\week 6\\week-6\\notebooks\\scripts\\feature_engineering.py:146\u001b[0m, in \u001b[0;36mcalculate_woe_iv\u001b[1;34m(df, target, feature_columns)\u001b[0m\n\u001b[0;32m    144\u001b[0m \u001b[38;5;28;01mtry\u001b[39;00m:\n\u001b[0;32m    145\u001b[0m     \u001b[38;5;66;03m# Apply WoE transformation\u001b[39;00m\n\u001b[1;32m--> 146\u001b[0m     df_woe \u001b[38;5;241m=\u001b[39m \u001b[43mwoe_transformer\u001b[49m\u001b[38;5;241;43m.\u001b[39;49m\u001b[43mfit_transform\u001b[49m\u001b[43m(\u001b[49m\u001b[43mfeature_df\u001b[49m\u001b[43m,\u001b[49m\u001b[43m \u001b[49m\u001b[43mtarget_series\u001b[49m\u001b[43m)\u001b[49m\n\u001b[0;32m    147\u001b[0m     iv \u001b[38;5;241m=\u001b[39m woe_transformer\u001b[38;5;241m.\u001b[39mwoe_df[[\u001b[38;5;124m'\u001b[39m\u001b[38;5;124mVariable\u001b[39m\u001b[38;5;124m'\u001b[39m, \u001b[38;5;124m'\u001b[39m\u001b[38;5;124mIV\u001b[39m\u001b[38;5;124m'\u001b[39m]]\u001b[38;5;241m.\u001b[39msort_values(by\u001b[38;5;241m=\u001b[39m\u001b[38;5;124m'\u001b[39m\u001b[38;5;124mIV\u001b[39m\u001b[38;5;124m'\u001b[39m, ascending\u001b[38;5;241m=\u001b[39m\u001b[38;5;28;01mFalse\u001b[39;00m)\n",
      "File \u001b[1;32md:\\Projects\\SolomonProjects\\Kifiya\\week 6\\week-6\\venv\\Lib\\site-packages\\sklearn\\utils\\_set_output.py:316\u001b[0m, in \u001b[0;36m_wrap_method_output.<locals>.wrapped\u001b[1;34m(self, X, *args, **kwargs)\u001b[0m\n\u001b[0;32m    314\u001b[0m \u001b[38;5;129m@wraps\u001b[39m(f)\n\u001b[0;32m    315\u001b[0m \u001b[38;5;28;01mdef\u001b[39;00m \u001b[38;5;21mwrapped\u001b[39m(\u001b[38;5;28mself\u001b[39m, X, \u001b[38;5;241m*\u001b[39margs, \u001b[38;5;241m*\u001b[39m\u001b[38;5;241m*\u001b[39mkwargs):\n\u001b[1;32m--> 316\u001b[0m     data_to_wrap \u001b[38;5;241m=\u001b[39m \u001b[43mf\u001b[49m\u001b[43m(\u001b[49m\u001b[38;5;28;43mself\u001b[39;49m\u001b[43m,\u001b[49m\u001b[43m \u001b[49m\u001b[43mX\u001b[49m\u001b[43m,\u001b[49m\u001b[43m \u001b[49m\u001b[38;5;241;43m*\u001b[39;49m\u001b[43margs\u001b[49m\u001b[43m,\u001b[49m\u001b[43m \u001b[49m\u001b[38;5;241;43m*\u001b[39;49m\u001b[38;5;241;43m*\u001b[39;49m\u001b[43mkwargs\u001b[49m\u001b[43m)\u001b[49m\n\u001b[0;32m    317\u001b[0m     \u001b[38;5;28;01mif\u001b[39;00m \u001b[38;5;28misinstance\u001b[39m(data_to_wrap, \u001b[38;5;28mtuple\u001b[39m):\n\u001b[0;32m    318\u001b[0m         \u001b[38;5;66;03m# only wrap the first output for cross decomposition\u001b[39;00m\n",
      "File \u001b[1;32md:\\Projects\\SolomonProjects\\Kifiya\\week 6\\week-6\\venv\\Lib\\site-packages\\xverse\\transformer\\_woe.py:317\u001b[0m, in \u001b[0;36mWOE.fit_transform\u001b[1;34m(self, X, y)\u001b[0m\n\u001b[0;32m    316\u001b[0m \u001b[38;5;28;01mdef\u001b[39;00m \u001b[38;5;21mfit_transform\u001b[39m(\u001b[38;5;28mself\u001b[39m, X, y):\n\u001b[1;32m--> 317\u001b[0m     \u001b[38;5;28;01mreturn\u001b[39;00m \u001b[38;5;28;43mself\u001b[39;49m\u001b[38;5;241;43m.\u001b[39;49m\u001b[43mfit\u001b[49m\u001b[43m(\u001b[49m\u001b[43mX\u001b[49m\u001b[43m,\u001b[49m\u001b[43m \u001b[49m\u001b[43my\u001b[49m\u001b[43m)\u001b[49m\u001b[38;5;241m.\u001b[39mtransform(X)\n",
      "File \u001b[1;32md:\\Projects\\SolomonProjects\\Kifiya\\week 6\\week-6\\venv\\Lib\\site-packages\\xverse\\transformer\\_woe.py:118\u001b[0m, in \u001b[0;36mWOE.fit\u001b[1;34m(self, X, y)\u001b[0m\n\u001b[0;32m    117\u001b[0m \u001b[38;5;66;03m#check datatype of X\u001b[39;00m\n\u001b[1;32m--> 118\u001b[0m \u001b[38;5;28;43mself\u001b[39;49m\u001b[38;5;241;43m.\u001b[39;49m\u001b[43mcheck_datatype\u001b[49m\u001b[43m(\u001b[49m\u001b[43mX\u001b[49m\u001b[43m)\u001b[49m\n\u001b[0;32m    120\u001b[0m \u001b[38;5;66;03m#The length of X and Y should be equal\u001b[39;00m\n",
      "File \u001b[1;32md:\\Projects\\SolomonProjects\\Kifiya\\week 6\\week-6\\venv\\Lib\\site-packages\\xverse\\transformer\\_woe.py:104\u001b[0m, in \u001b[0;36mWOE.check_datatype\u001b[1;34m(self, X)\u001b[0m\n\u001b[0;32m    103\u001b[0m \u001b[38;5;28;01mif\u001b[39;00m \u001b[38;5;129;01mnot\u001b[39;00m \u001b[38;5;28misinstance\u001b[39m(X, pd\u001b[38;5;241m.\u001b[39mDataFrame):\n\u001b[1;32m--> 104\u001b[0m     \u001b[38;5;28;01mraise\u001b[39;00m \u001b[38;5;167;01mValueError\u001b[39;00m(\u001b[38;5;124m\"\u001b[39m\u001b[38;5;124mThe input data must be pandas dataframe. But the input provided is \u001b[39m\u001b[38;5;124m\"\u001b[39m \u001b[38;5;241m+\u001b[39m \u001b[38;5;28mstr\u001b[39m(\u001b[38;5;28mtype\u001b[39m(X)))\n\u001b[0;32m    105\u001b[0m \u001b[38;5;28;01mreturn\u001b[39;00m \u001b[38;5;28mself\u001b[39m\n",
      "\u001b[1;31mValueError\u001b[0m: The input data must be pandas dataframe. But the input provided is <class 'str'>",
      "\nDuring handling of the above exception, another exception occurred:\n",
      "\u001b[1;31mValueError\u001b[0m                                Traceback (most recent call last)",
      "Cell \u001b[1;32mIn[2], line 31\u001b[0m\n\u001b[0;32m     29\u001b[0m \u001b[38;5;66;03m# Step 4: Calculate WoE and IV for original categorical variables\u001b[39;00m\n\u001b[0;32m     30\u001b[0m categorical_columns \u001b[38;5;241m=\u001b[39m [\u001b[38;5;124m'\u001b[39m\u001b[38;5;124mProductCategory\u001b[39m\u001b[38;5;124m'\u001b[39m, \u001b[38;5;124m'\u001b[39m\u001b[38;5;124mChannelId\u001b[39m\u001b[38;5;124m'\u001b[39m]\n\u001b[1;32m---> 31\u001b[0m woe_features, iv_values \u001b[38;5;241m=\u001b[39m \u001b[43mcalculate_woe_iv\u001b[49m\u001b[43m(\u001b[49m\u001b[43mdata\u001b[49m\u001b[43m,\u001b[49m\u001b[43m \u001b[49m\u001b[38;5;124;43m'\u001b[39;49m\u001b[38;5;124;43mFraudResult\u001b[39;49m\u001b[38;5;124;43m'\u001b[39;49m\u001b[43m,\u001b[49m\u001b[43m \u001b[49m\u001b[43mcategorical_columns\u001b[49m\u001b[43m)\u001b[49m\n\u001b[0;32m     32\u001b[0m \u001b[38;5;28mprint\u001b[39m(\u001b[38;5;124m\"\u001b[39m\u001b[38;5;124mWoE-transformed data:\u001b[39m\u001b[38;5;124m\"\u001b[39m)\n\u001b[0;32m     33\u001b[0m \u001b[38;5;28mprint\u001b[39m(woe_features\u001b[38;5;241m.\u001b[39mhead())\n",
      "File \u001b[1;32md:\\Projects\\SolomonProjects\\Kifiya\\week 6\\week-6\\notebooks\\scripts\\feature_engineering.py:149\u001b[0m, in \u001b[0;36mcalculate_woe_iv\u001b[1;34m(df, target, feature_columns)\u001b[0m\n\u001b[0;32m    147\u001b[0m     iv \u001b[38;5;241m=\u001b[39m woe_transformer\u001b[38;5;241m.\u001b[39mwoe_df[[\u001b[38;5;124m'\u001b[39m\u001b[38;5;124mVariable\u001b[39m\u001b[38;5;124m'\u001b[39m, \u001b[38;5;124m'\u001b[39m\u001b[38;5;124mIV\u001b[39m\u001b[38;5;124m'\u001b[39m]]\u001b[38;5;241m.\u001b[39msort_values(by\u001b[38;5;241m=\u001b[39m\u001b[38;5;124m'\u001b[39m\u001b[38;5;124mIV\u001b[39m\u001b[38;5;124m'\u001b[39m, ascending\u001b[38;5;241m=\u001b[39m\u001b[38;5;28;01mFalse\u001b[39;00m)\n\u001b[0;32m    148\u001b[0m \u001b[38;5;28;01mexcept\u001b[39;00m \u001b[38;5;167;01mException\u001b[39;00m \u001b[38;5;28;01mas\u001b[39;00m e:\n\u001b[1;32m--> 149\u001b[0m     \u001b[38;5;28;01mraise\u001b[39;00m \u001b[38;5;167;01mValueError\u001b[39;00m(\u001b[38;5;124mf\u001b[39m\u001b[38;5;124m\"\u001b[39m\u001b[38;5;124mError during WoE/IV calculation: \u001b[39m\u001b[38;5;132;01m{\u001b[39;00me\u001b[38;5;132;01m}\u001b[39;00m\u001b[38;5;124m\"\u001b[39m)\n\u001b[0;32m    151\u001b[0m \u001b[38;5;28;01mreturn\u001b[39;00m df_woe, iv\n",
      "\u001b[1;31mValueError\u001b[0m: Error during WoE/IV calculation: The input data must be pandas dataframe. But the input provided is <class 'str'>"
     ]
    }
   ],
   "source": [
    "import sys\n",
    "sys.path.append('../scripts')\n",
    "\n",
    "from scripts.load_data import load_data\n",
    "from scripts.feature_engineering import create_aggregate_features, extract_temporal_features, encode_categorical, handle_missing_values, scale_features, calculate_woe_iv\n",
    "\n",
    "# Load the data\n",
    "data = load_data('../data/data.csv')\n",
    "\n",
    "# Step 1: Create aggregate features\n",
    "agg_features = create_aggregate_features(data)\n",
    "print(\"Aggregated features:\")\n",
    "print(agg_features.head())\n",
    "\n",
    "# Step 2: Extract temporal features\n",
    "data = extract_temporal_features(data)\n",
    "print(\"Data with extracted temporal features:\")\n",
    "print(data[['TransactionStartTime', 'transaction_hour', 'transaction_day']].head())\n",
    "\n",
    "# Step 3: Ensure the necessary columns are categorical before WoE calculation\n",
    "print(f\"Before conversion: ProductCategory type: {data['ProductCategory'].dtype}, ChannelId type: {data['ChannelId'].dtype}\")\n",
    "\n",
    "# Convert columns to categorical\n",
    "data['ProductCategory'] = data['ProductCategory'].astype('category')\n",
    "data['ChannelId'] = data['ChannelId'].astype('category')\n",
    "\n",
    "print(f\"After conversion: ProductCategory type: {data['ProductCategory'].dtype}, ChannelId type: {data['ChannelId'].dtype}\")\n",
    "\n",
    "# Step 4: Calculate WoE and IV for original categorical variables\n",
    "categorical_columns = ['ProductCategory', 'ChannelId']\n",
    "woe_features, iv_values = calculate_woe_iv(data, 'FraudResult', categorical_columns)\n",
    "print(\"WoE-transformed data:\")\n",
    "print(woe_features.head())\n",
    "\n",
    "print(\"Information Value of features:\")\n",
    "print(iv_values)\n",
    "\n",
    "# Step 5: Encode remaining categorical variables (if any)\n",
    "data_encoded = encode_categorical(woe_features, [], method='one-hot')  # Skip encoding for WoE transformed columns\n",
    "print(\"Encoded categorical variables:\")\n",
    "print(data_encoded.head())\n",
    "\n",
    "# Step 6: Handle missing values\n",
    "data_filled = handle_missing_values(data_encoded, strategy='mean')\n",
    "print(\"Data after handling missing values:\")\n",
    "print(data_filled.head())\n",
    "\n",
    "# Step 7: Normalize/Standardize numerical features\n",
    "numerical_columns = ['Amount', 'Value']\n",
    "data_normalized = scale_features(data_filled, numerical_columns, method='normalize')\n",
    "print(\"Normalized numerical features:\")\n",
    "print(data_normalized[['Amount', 'Value']].head())\n"
   ]
  },
  {
   "cell_type": "code",
   "execution_count": null,
   "metadata": {},
   "outputs": [],
   "source": []
  },
  {
   "cell_type": "code",
   "execution_count": null,
   "metadata": {},
   "outputs": [],
   "source": []
  }
 ],
 "metadata": {
  "kernelspec": {
   "display_name": "venv",
   "language": "python",
   "name": "python3"
  },
  "language_info": {
   "codemirror_mode": {
    "name": "ipython",
    "version": 3
   },
   "file_extension": ".py",
   "mimetype": "text/x-python",
   "name": "python",
   "nbconvert_exporter": "python",
   "pygments_lexer": "ipython3",
   "version": "3.12.7"
  }
 },
 "nbformat": 4,
 "nbformat_minor": 2
}
