{
 "cells": [
  {
   "cell_type": "code",
   "execution_count": 1,
   "metadata": {},
   "outputs": [],
   "source": [
    "# notebooks/task-1.ipynb\n",
    "import sys\n",
    "sys.path.append('../scripts')\n"
   ]
  },
  {
   "cell_type": "code",
   "execution_count": 2,
   "metadata": {},
   "outputs": [],
   "source": [
    "\n",
    "# Import functions from relevant scripts\n",
    "from scripts.load_data import load_data\n",
    "from scripts.eda import summarize_data, check_missing_values\n",
    "from scripts.visualization import plot_distribution, plot_categorical_distribution, detect_outliers\n"
   ]
  },
  {
   "cell_type": "code",
   "execution_count": 3,
   "metadata": {},
   "outputs": [
    {
     "name": "stdout",
     "output_type": "stream",
     "text": [
      "Data loaded successfully. Shape: (95662, 16)\n"
     ]
    }
   ],
   "source": [
    "\n",
    "# Load the dataset\n",
    "data = load_data('../data/data.csv')\n"
   ]
  },
  {
   "cell_type": "code",
   "execution_count": 4,
   "metadata": {},
   "outputs": [
    {
     "name": "stdout",
     "output_type": "stream",
     "text": [
      "Summary Statistics               TransactionId        BatchId       AccountId  \\\n",
      "count                 95662          95662           95662   \n",
      "unique                95662          94809            3633   \n",
      "top     TransactionId_35670  BatchId_67019  AccountId_4841   \n",
      "freq                      1             28           30893   \n",
      "mean                    NaN            NaN             NaN   \n",
      "std                     NaN            NaN             NaN   \n",
      "min                     NaN            NaN             NaN   \n",
      "25%                     NaN            NaN             NaN   \n",
      "50%                     NaN            NaN             NaN   \n",
      "75%                     NaN            NaN             NaN   \n",
      "max                     NaN            NaN             NaN   \n",
      "\n",
      "             SubscriptionId       CustomerId CurrencyCode  CountryCode  \\\n",
      "count                 95662            95662        95662      95662.0   \n",
      "unique                 3627             3742            1          NaN   \n",
      "top     SubscriptionId_3829  CustomerId_7343          UGX          NaN   \n",
      "freq                  32630             4091        95662          NaN   \n",
      "mean                    NaN              NaN          NaN        256.0   \n",
      "std                     NaN              NaN          NaN          0.0   \n",
      "min                     NaN              NaN          NaN        256.0   \n",
      "25%                     NaN              NaN          NaN        256.0   \n",
      "50%                     NaN              NaN          NaN        256.0   \n",
      "75%                     NaN              NaN          NaN        256.0   \n",
      "max                     NaN              NaN          NaN        256.0   \n",
      "\n",
      "          ProviderId    ProductId     ProductCategory    ChannelId  \\\n",
      "count          95662        95662               95662        95662   \n",
      "unique             6           23                   9            4   \n",
      "top     ProviderId_4  ProductId_6  financial_services  ChannelId_3   \n",
      "freq           38189        32635               45405        56935   \n",
      "mean             NaN          NaN                 NaN          NaN   \n",
      "std              NaN          NaN                 NaN          NaN   \n",
      "min              NaN          NaN                 NaN          NaN   \n",
      "25%              NaN          NaN                 NaN          NaN   \n",
      "50%              NaN          NaN                 NaN          NaN   \n",
      "75%              NaN          NaN                 NaN          NaN   \n",
      "max              NaN          NaN                 NaN          NaN   \n",
      "\n",
      "              Amount         Value  TransactionStartTime  PricingStrategy  \\\n",
      "count   9.566200e+04  9.566200e+04                 95662     95662.000000   \n",
      "unique           NaN           NaN                 94556              NaN   \n",
      "top              NaN           NaN  2018-12-24T16:30:13Z              NaN   \n",
      "freq             NaN           NaN                    17              NaN   \n",
      "mean    6.717846e+03  9.900584e+03                   NaN         2.255974   \n",
      "std     1.233068e+05  1.231221e+05                   NaN         0.732924   \n",
      "min    -1.000000e+06  2.000000e+00                   NaN         0.000000   \n",
      "25%    -5.000000e+01  2.750000e+02                   NaN         2.000000   \n",
      "50%     1.000000e+03  1.000000e+03                   NaN         2.000000   \n",
      "75%     2.800000e+03  5.000000e+03                   NaN         2.000000   \n",
      "max     9.880000e+06  9.880000e+06                   NaN         4.000000   \n",
      "\n",
      "         FraudResult  \n",
      "count   95662.000000  \n",
      "unique           NaN  \n",
      "top              NaN  \n",
      "freq             NaN  \n",
      "mean        0.002018  \n",
      "std         0.044872  \n",
      "min         0.000000  \n",
      "25%         0.000000  \n",
      "50%         0.000000  \n",
      "75%         0.000000  \n",
      "max         1.000000  \n"
     ]
    }
   ],
   "source": [
    "\n",
    "# Summarize the data\n",
    "summary_stats = summarize_data(data)\n",
    "print(\"Summary Statistics\",summary_stats)\n"
   ]
  },
  {
   "cell_type": "code",
   "execution_count": 5,
   "metadata": {},
   "outputs": [
    {
     "name": "stdout",
     "output_type": "stream",
     "text": [
      "Missing Values Series([], dtype: int64)\n"
     ]
    }
   ],
   "source": [
    "\n",
    "# Check for missing values\n",
    "missing_values = check_missing_values(data)\n",
    "print(\"Missing Values\", missing_values)\n"
   ]
  },
  {
   "cell_type": "code",
   "execution_count": 6,
   "metadata": {},
   "outputs": [
    {
     "data": {
      "image/png": "[encoded data removed]",
      "text/plain": [
       "<Figure size 1000x500 with 1 Axes>"
      ]
     },
     "metadata": {},
     "output_type": "display_data"
    }
   ],
   "source": [
    "\n",
    "# Visualize the distribution of 'Amount'\n",
    "plot_distribution(data, 'Amount')\n"
   ]
  },
  {
   "cell_type": "code",
   "execution_count": null,
   "metadata": {},
   "outputs": [],
   "source": [
    "\n",
    "# Visualize the categorical distribution of 'FraudResult'\n",
    "plot_categorical_distribution(data, 'FraudResult')\n"
   ]
  },
  {
   "cell_type": "code",
   "execution_count": null,
   "metadata": {},
   "outputs": [],
   "source": [
    "\n",
    "# Detect outliers in 'Amount'\n",
    "detect_outliers(data, 'Amount')\n"
   ]
  }
 ],
 "metadata": {
  "kernelspec": {
   "display_name": "venv",
   "language": "python",
   "name": "python3"
  },
  "language_info": {
   "codemirror_mode": {
    "name": "ipython",
    "version": 3
   },
   "file_extension": ".py",
   "mimetype": "text/x-python",
   "name": "python",
   "nbconvert_exporter": "python",
   "pygments_lexer": "ipython3",
   "version": "3.12.7"
  }
 },
 "nbformat": 4,
 "nbformat_minor": 2
}
