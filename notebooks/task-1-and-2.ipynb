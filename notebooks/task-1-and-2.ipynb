{
 "cells": [
  {
   "cell_type": "code",
   "execution_count": null,
   "metadata": {},
   "outputs": [],
   "source": [
    "# notebooks/task-1.ipynb\n",
    "import sys\n",
    "sys.path.append('../scripts')\n",
    "\n",
    "# Import functions from relevant scripts\n",
    "from scripts.load_data import load_data\n",
    "from scripts.eda import summarize_data, check_missing_values\n",
    "from scripts.visualization import plot_distribution, plot_categorical_distribution, detect_outliers\n",
    "\n",
    "# Load the dataset\n",
    "data = load_data('../data/data.csv')\n",
    "\n",
    "# Summarize the data\n",
    "summary_stats = summarize_data(data)\n",
    "print(summary_stats)\n",
    "\n",
    "# Check for missing values\n",
    "missing_values = check_missing_values(data)\n",
    "print(missing_values)\n",
    "\n",
    "# Visualize the distribution of 'Amount'\n",
    "plot_distribution(data, 'Amount')\n",
    "\n",
    "# Visualize the categorical distribution of 'FraudResult'\n",
    "plot_categorical_distribution(data, 'FraudResult')\n",
    "\n",
    "# Detect outliers in 'Amount'\n",
    "detect_outliers(data, 'Amount')\n"
   ]
  }
 ],
 "metadata": {
  "kernelspec": {
   "display_name": "venv",
   "language": "python",
   "name": "python3"
  },
  "language_info": {
   "codemirror_mode": {
    "name": "ipython",
    "version": 3
   },
   "file_extension": ".py",
   "mimetype": "text/x-python",
   "name": "python",
   "nbconvert_exporter": "python",
   "pygments_lexer": "ipython3",
   "version": "3.12.7"
  }
 },
 "nbformat": 4,
 "nbformat_minor": 2
}
